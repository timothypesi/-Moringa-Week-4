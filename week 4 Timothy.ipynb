{
  "nbformat": 4,
  "nbformat_minor": 0,
  "metadata": {
    "colab": {
      "name": "Ronald Mosomi week 4 IP.ipynb",
      "provenance": [],
      "collapsed_sections": [
        "dcoLXwDFeRQh"
      ],
      "authorship_tag": "ABX9TyO8Qg1WrzgxP1W4BqvoReN1",
      "include_colab_link": true
    },
    "kernelspec": {
      "name": "python3",
      "display_name": "Python 3"
    },
    "language_info": {
      "name": "python"
    }
  },
  "cells": [
    {
      "cell_type": "markdown",
      "metadata": {
        "id": "view-in-github",
        "colab_type": "text"
      },
      "source": [
        "<a href=\"https://colab.research.google.com/github/ronidad/Moring-week-4IP/blob/main/Ronald_Mosomi_week_4_IP.ipynb\" target=\"_parent\"><img src=\"https://colab.research.google.com/assets/colab-badge.svg\" alt=\"Open In Colab\"/></a>"
      ]
    },
    {
      "cell_type": "markdown",
      "metadata": {
        "id": "3xhV-Z8OdZ9B"
      },
      "source": [
        "# Paris electric cars (Blue Cars) analysis"
      ]
    },
    {
      "cell_type": "markdown",
      "metadata": {
        "id": "p_xJj4Kpdld_"
      },
      "source": [
        "# Import required libraries"
      ]
    },
    {
      "cell_type": "code",
      "metadata": {
        "id": "FtM3_QGJzx_6"
      },
      "source": [
        "import pandas as pd\n",
        "import matplotlib.pyplot as plt\n"
      ],
      "execution_count": 192,
      "outputs": []
    },
    {
      "cell_type": "markdown",
      "metadata": {
        "id": "XvtY7Yb_d8gu"
      },
      "source": [
        "# Read data required "
      ]
    },
    {
      "cell_type": "code",
      "metadata": {
        "id": "Q_99Hw0D0w7h"
      },
      "source": [
        "df = pd.read_csv(\"data.csv\")"
      ],
      "execution_count": 193,
      "outputs": []
    },
    {
      "cell_type": "markdown",
      "metadata": {
        "id": "dcoLXwDFeRQh"
      },
      "source": [
        "# Data cleaning"
      ]
    },
    {
      "cell_type": "code",
      "metadata": {
        "colab": {
          "base_uri": "https://localhost:8080/"
        },
        "id": "FdJxSLDh091g",
        "outputId": "3b928ada-e169-4c85-b61f-65799595f11b"
      },
      "source": [
        "df.info()"
      ],
      "execution_count": 194,
      "outputs": [
        {
          "output_type": "stream",
          "text": [
            "<class 'pandas.core.frame.DataFrame'>\n",
            "RangeIndex: 5000 entries, 0 to 4999\n",
            "Data columns (total 25 columns):\n",
            " #   Column               Non-Null Count  Dtype \n",
            "---  ------               --------------  ----- \n",
            " 0   Address              5000 non-null   object\n",
            " 1   Cars                 5000 non-null   int64 \n",
            " 2   Bluecar counter      5000 non-null   int64 \n",
            " 3   Utilib counter       5000 non-null   int64 \n",
            " 4   Utilib 1.4 counter   5000 non-null   int64 \n",
            " 5   Charge Slots         5000 non-null   int64 \n",
            " 6   Charging Status      5000 non-null   object\n",
            " 7   City                 5000 non-null   object\n",
            " 8   Displayed comment    111 non-null    object\n",
            " 9   ID                   5000 non-null   object\n",
            " 10  Kind                 5000 non-null   object\n",
            " 11  Geo point            5000 non-null   object\n",
            " 12  Postal code          5000 non-null   int64 \n",
            " 13  Public name          5000 non-null   object\n",
            " 14  Rental status        5000 non-null   object\n",
            " 15  Scheduled at         47 non-null     object\n",
            " 16  Slots                5000 non-null   int64 \n",
            " 17  Station type         5000 non-null   object\n",
            " 18  Status               5000 non-null   object\n",
            " 19  Subscription status  5000 non-null   object\n",
            " 20  year                 5000 non-null   int64 \n",
            " 21  month                5000 non-null   int64 \n",
            " 22  day                  5000 non-null   int64 \n",
            " 23  hour                 5000 non-null   int64 \n",
            " 24  minute               5000 non-null   int64 \n",
            "dtypes: int64(12), object(13)\n",
            "memory usage: 976.7+ KB\n"
          ],
          "name": "stdout"
        }
      ]
    },
    {
      "cell_type": "code",
      "metadata": {
        "colab": {
          "base_uri": "https://localhost:8080/"
        },
        "id": "M6NsQBKE1A31",
        "outputId": "682abde9-8b96-433f-a775-2027992665a8"
      },
      "source": [
        "df.isnull().sum()"
      ],
      "execution_count": 195,
      "outputs": [
        {
          "output_type": "execute_result",
          "data": {
            "text/plain": [
              "Address                   0\n",
              "Cars                      0\n",
              "Bluecar counter           0\n",
              "Utilib counter            0\n",
              "Utilib 1.4 counter        0\n",
              "Charge Slots              0\n",
              "Charging Status           0\n",
              "City                      0\n",
              "Displayed comment      4889\n",
              "ID                        0\n",
              "Kind                      0\n",
              "Geo point                 0\n",
              "Postal code               0\n",
              "Public name               0\n",
              "Rental status             0\n",
              "Scheduled at           4953\n",
              "Slots                     0\n",
              "Station type              0\n",
              "Status                    0\n",
              "Subscription status       0\n",
              "year                      0\n",
              "month                     0\n",
              "day                       0\n",
              "hour                      0\n",
              "minute                    0\n",
              "dtype: int64"
            ]
          },
          "metadata": {
            "tags": []
          },
          "execution_count": 195
        }
      ]
    },
    {
      "cell_type": "code",
      "metadata": {
        "id": "oia11P7W2fAn"
      },
      "source": [
        "#Validity \n",
        "\n",
        "#Drop columns with many null values\n",
        "\n",
        "df.drop(columns=['Displayed comment','Scheduled at'],inplace=True)\n",
        "\n"
      ],
      "execution_count": 196,
      "outputs": []
    },
    {
      "cell_type": "code",
      "metadata": {
        "id": "RRnbzXlw4rv3",
        "colab": {
          "base_uri": "https://localhost:8080/"
        },
        "outputId": "bb00c162-3913-4c2d-8668-abd248589ab7"
      },
      "source": [
        "#Checking whether there are duplicates to drop\n",
        "\n",
        "#There is no duplicate\n",
        "\n",
        "df.duplicated().any()"
      ],
      "execution_count": 197,
      "outputs": [
        {
          "output_type": "execute_result",
          "data": {
            "text/plain": [
              "False"
            ]
          },
          "metadata": {
            "tags": []
          },
          "execution_count": 197
        }
      ]
    },
    {
      "cell_type": "code",
      "metadata": {
        "id": "gxh6JwEQ6BlG"
      },
      "source": [
        "#Uniformity\n",
        "df.columns = df.columns.str.strip().str.replace(\" \", \"_\").str.title()\n",
        "#Remove spaces in columns, replace spaces with _ and make all of the title case\n"
      ],
      "execution_count": 198,
      "outputs": []
    },
    {
      "cell_type": "code",
      "metadata": {
        "colab": {
          "base_uri": "https://localhost:8080/"
        },
        "id": "YQJD2Ehd6_40",
        "outputId": "f842cfab-5be2-4bde-c7d0-749b9b33b6e5"
      },
      "source": [
        "df.columns"
      ],
      "execution_count": 199,
      "outputs": [
        {
          "output_type": "execute_result",
          "data": {
            "text/plain": [
              "Index(['Address', 'Cars', 'Bluecar_Counter', 'Utilib_Counter',\n",
              "       'Utilib_1.4_Counter', 'Charge_Slots', 'Charging_Status', 'City', 'Id',\n",
              "       'Kind', 'Geo_Point', 'Postal_Code', 'Public_Name', 'Rental_Status',\n",
              "       'Slots', 'Station_Type', 'Status', 'Subscription_Status', 'Year',\n",
              "       'Month', 'Day', 'Hour', 'Minute'],\n",
              "      dtype='object')"
            ]
          },
          "metadata": {
            "tags": []
          },
          "execution_count": 199
        }
      ]
    },
    {
      "cell_type": "code",
      "metadata": {
        "id": "mx43jxCKbBne"
      },
      "source": [
        "#Create dates column by joining the year, month, day, hour and minute to enable us \n",
        "df['Dates'] = pd.to_datetime(df[['Year', 'Month', 'Day', 'Hour', 'Minute']])\n",
        "autolib = df.sort_values(by='Dates')"
      ],
      "execution_count": 200,
      "outputs": []
    },
    {
      "cell_type": "code",
      "metadata": {
        "id": "YiiM3rl7grBY"
      },
      "source": [
        "#Drop unwanted columns \n",
        "autolib.drop(columns=['Address','Cars','Id','Geo_Point','Year','Month','Day','Minute','Station_Type'],inplace=True)"
      ],
      "execution_count": 201,
      "outputs": []
    },
    {
      "cell_type": "code",
      "metadata": {
        "id": "Zvk0MaoGjGSF"
      },
      "source": [
        "#autolib.groupby(['Dates','Public Name']).sum().sort_values(['Public Name', 'Dates'], ascending=[True, True]).head()\n",
        "autolib_active = autolib.groupby(['Dates','Public_Name','City']).sum().sort_values(['Public_Name', 'Dates'], ascending=[True, True])\n",
        "\n",
        "#This is helping us sort all stations(public name) and to ensure that we get each grouped ondividually "
      ],
      "execution_count": 202,
      "outputs": []
    },
    {
      "cell_type": "code",
      "metadata": {
        "colab": {
          "base_uri": "https://localhost:8080/",
          "height": 235
        },
        "id": "Q1EULzM5Nj1q",
        "outputId": "b923ec4f-cd89-44c9-aba7-5dafb192ce59"
      },
      "source": [
        "autolib_active.head()"
      ],
      "execution_count": 203,
      "outputs": [
        {
          "output_type": "execute_result",
          "data": {
            "text/html": [
              "<div>\n",
              "<style scoped>\n",
              "    .dataframe tbody tr th:only-of-type {\n",
              "        vertical-align: middle;\n",
              "    }\n",
              "\n",
              "    .dataframe tbody tr th {\n",
              "        vertical-align: top;\n",
              "    }\n",
              "\n",
              "    .dataframe thead th {\n",
              "        text-align: right;\n",
              "    }\n",
              "</style>\n",
              "<table border=\"1\" class=\"dataframe\">\n",
              "  <thead>\n",
              "    <tr style=\"text-align: right;\">\n",
              "      <th></th>\n",
              "      <th></th>\n",
              "      <th></th>\n",
              "      <th>Bluecar_Counter</th>\n",
              "      <th>Utilib_Counter</th>\n",
              "      <th>Utilib_1.4_Counter</th>\n",
              "      <th>Charge_Slots</th>\n",
              "      <th>Postal_Code</th>\n",
              "      <th>Slots</th>\n",
              "      <th>Hour</th>\n",
              "    </tr>\n",
              "    <tr>\n",
              "      <th>Dates</th>\n",
              "      <th>Public_Name</th>\n",
              "      <th>City</th>\n",
              "      <th></th>\n",
              "      <th></th>\n",
              "      <th></th>\n",
              "      <th></th>\n",
              "      <th></th>\n",
              "      <th></th>\n",
              "      <th></th>\n",
              "    </tr>\n",
              "  </thead>\n",
              "  <tbody>\n",
              "    <tr>\n",
              "      <th>2018-04-02 19:28:00</th>\n",
              "      <th>Alfortville/Blanqui/61</th>\n",
              "      <th>Alfortville</th>\n",
              "      <td>0</td>\n",
              "      <td>0</td>\n",
              "      <td>0</td>\n",
              "      <td>0</td>\n",
              "      <td>94140</td>\n",
              "      <td>0</td>\n",
              "      <td>19</td>\n",
              "    </tr>\n",
              "    <tr>\n",
              "      <th>2018-04-04 09:05:00</th>\n",
              "      <th>Alfortville/Blanqui/61</th>\n",
              "      <th>Alfortville</th>\n",
              "      <td>0</td>\n",
              "      <td>0</td>\n",
              "      <td>0</td>\n",
              "      <td>0</td>\n",
              "      <td>94140</td>\n",
              "      <td>0</td>\n",
              "      <td>9</td>\n",
              "    </tr>\n",
              "    <tr>\n",
              "      <th>2018-04-07 18:40:00</th>\n",
              "      <th>Alfortville/Blanqui/61</th>\n",
              "      <th>Alfortville</th>\n",
              "      <td>0</td>\n",
              "      <td>0</td>\n",
              "      <td>0</td>\n",
              "      <td>0</td>\n",
              "      <td>94140</td>\n",
              "      <td>0</td>\n",
              "      <td>18</td>\n",
              "    </tr>\n",
              "    <tr>\n",
              "      <th>2018-04-09 09:01:00</th>\n",
              "      <th>Alfortville/Blanqui/61</th>\n",
              "      <th>Alfortville</th>\n",
              "      <td>0</td>\n",
              "      <td>0</td>\n",
              "      <td>0</td>\n",
              "      <td>0</td>\n",
              "      <td>94140</td>\n",
              "      <td>0</td>\n",
              "      <td>9</td>\n",
              "    </tr>\n",
              "    <tr>\n",
              "      <th>2018-04-01 00:36:00</th>\n",
              "      <th>Alfortville/Charles de Gaulle/16</th>\n",
              "      <th>Alfortville</th>\n",
              "      <td>2</td>\n",
              "      <td>0</td>\n",
              "      <td>0</td>\n",
              "      <td>0</td>\n",
              "      <td>94140</td>\n",
              "      <td>0</td>\n",
              "      <td>0</td>\n",
              "    </tr>\n",
              "  </tbody>\n",
              "</table>\n",
              "</div>"
            ],
            "text/plain": [
              "                                                                  Bluecar_Counter  ...  Hour\n",
              "Dates               Public_Name                      City                          ...      \n",
              "2018-04-02 19:28:00 Alfortville/Blanqui/61           Alfortville                0  ...    19\n",
              "2018-04-04 09:05:00 Alfortville/Blanqui/61           Alfortville                0  ...     9\n",
              "2018-04-07 18:40:00 Alfortville/Blanqui/61           Alfortville                0  ...    18\n",
              "2018-04-09 09:01:00 Alfortville/Blanqui/61           Alfortville                0  ...     9\n",
              "2018-04-01 00:36:00 Alfortville/Charles de Gaulle/16 Alfortville                2  ...     0\n",
              "\n",
              "[5 rows x 7 columns]"
            ]
          },
          "metadata": {
            "tags": []
          },
          "execution_count": 203
        }
      ]
    },
    {
      "cell_type": "code",
      "metadata": {
        "id": "1peLj0ssUiIY"
      },
      "source": [
        "#Reset the indeces so that we can easily use the dataframe\n",
        "autolib_active.reset_index(inplace=True)"
      ],
      "execution_count": 204,
      "outputs": []
    },
    {
      "cell_type": "code",
      "metadata": {
        "id": "mpO6qxp7j9oA"
      },
      "source": [
        "#Add boolean station match column to help us klnow if the current station we are calculating the difference is the same as previous one\n",
        "autolib_active['Station_Match'] = autolib_active.Public_Name.eq(autolib_active.Public_Name.shift())"
      ],
      "execution_count": 205,
      "outputs": []
    },
    {
      "cell_type": "code",
      "metadata": {
        "id": "xnG2HCS3H0KU"
      },
      "source": [
        " #Calculate the values of the current difference from the previous column using shifty\n",
        " autolib_active['Blue_Difference']= autolib_active.Bluecar_Counter.shift(1) - autolib_active.Bluecar_Counter"
      ],
      "execution_count": 206,
      "outputs": []
    },
    {
      "cell_type": "code",
      "metadata": {
        "id": "xVXdcHmfG1uy"
      },
      "source": [
        "autolib_active['All_Cars_Counter'] = autolib_active['Utilib_Counter'] + autolib_active['Utilib_1.4_Counter']\n",
        "autolib_active['All_Difference']= autolib_active.All_Cars_Counter.shift(1) - autolib_active.All_Cars_Counter\n",
        "autolib_active.loc[autolib_active['Station_Match'] == False, 'All_Difference'] = autolib_active.All_Cars_Counter*-1\n",
        "#Update the colums where the previous columns in public name is not equla to current public name to have their cars equal to the one we found initially\n",
        "\n",
        "autolib_active.loc[autolib_active['Station_Match'] == False, 'Blue_Difference'] = autolib_active.Bluecar_Counter*-1\n",
        "\n",
        "#autolib_active['Kind'] = df['Kind']\n"
      ],
      "execution_count": 207,
      "outputs": []
    },
    {
      "cell_type": "code",
      "metadata": {
        "colab": {
          "base_uri": "https://localhost:8080/",
          "height": 1000
        },
        "id": "ICaLlbfeH7Nm",
        "outputId": "9a7915dc-fcd6-4a9b-aafb-eb2594f4e41b"
      },
      "source": [
        "autolib_active.head(50)"
      ],
      "execution_count": 208,
      "outputs": [
        {
          "output_type": "execute_result",
          "data": {
            "text/html": [
              "<div>\n",
              "<style scoped>\n",
              "    .dataframe tbody tr th:only-of-type {\n",
              "        vertical-align: middle;\n",
              "    }\n",
              "\n",
              "    .dataframe tbody tr th {\n",
              "        vertical-align: top;\n",
              "    }\n",
              "\n",
              "    .dataframe thead th {\n",
              "        text-align: right;\n",
              "    }\n",
              "</style>\n",
              "<table border=\"1\" class=\"dataframe\">\n",
              "  <thead>\n",
              "    <tr style=\"text-align: right;\">\n",
              "      <th></th>\n",
              "      <th>Dates</th>\n",
              "      <th>Public_Name</th>\n",
              "      <th>City</th>\n",
              "      <th>Bluecar_Counter</th>\n",
              "      <th>Utilib_Counter</th>\n",
              "      <th>Utilib_1.4_Counter</th>\n",
              "      <th>Charge_Slots</th>\n",
              "      <th>Postal_Code</th>\n",
              "      <th>Slots</th>\n",
              "      <th>Hour</th>\n",
              "      <th>Station_Match</th>\n",
              "      <th>Blue_Difference</th>\n",
              "      <th>All_Cars_Counter</th>\n",
              "      <th>All_Difference</th>\n",
              "    </tr>\n",
              "  </thead>\n",
              "  <tbody>\n",
              "    <tr>\n",
              "      <th>0</th>\n",
              "      <td>2018-04-02 19:28:00</td>\n",
              "      <td>Alfortville/Blanqui/61</td>\n",
              "      <td>Alfortville</td>\n",
              "      <td>0</td>\n",
              "      <td>0</td>\n",
              "      <td>0</td>\n",
              "      <td>0</td>\n",
              "      <td>94140</td>\n",
              "      <td>0</td>\n",
              "      <td>19</td>\n",
              "      <td>False</td>\n",
              "      <td>0.0</td>\n",
              "      <td>0</td>\n",
              "      <td>0.0</td>\n",
              "    </tr>\n",
              "    <tr>\n",
              "      <th>1</th>\n",
              "      <td>2018-04-04 09:05:00</td>\n",
              "      <td>Alfortville/Blanqui/61</td>\n",
              "      <td>Alfortville</td>\n",
              "      <td>0</td>\n",
              "      <td>0</td>\n",
              "      <td>0</td>\n",
              "      <td>0</td>\n",
              "      <td>94140</td>\n",
              "      <td>0</td>\n",
              "      <td>9</td>\n",
              "      <td>True</td>\n",
              "      <td>0.0</td>\n",
              "      <td>0</td>\n",
              "      <td>0.0</td>\n",
              "    </tr>\n",
              "    <tr>\n",
              "      <th>2</th>\n",
              "      <td>2018-04-07 18:40:00</td>\n",
              "      <td>Alfortville/Blanqui/61</td>\n",
              "      <td>Alfortville</td>\n",
              "      <td>0</td>\n",
              "      <td>0</td>\n",
              "      <td>0</td>\n",
              "      <td>0</td>\n",
              "      <td>94140</td>\n",
              "      <td>0</td>\n",
              "      <td>18</td>\n",
              "      <td>True</td>\n",
              "      <td>0.0</td>\n",
              "      <td>0</td>\n",
              "      <td>0.0</td>\n",
              "    </tr>\n",
              "    <tr>\n",
              "      <th>3</th>\n",
              "      <td>2018-04-09 09:01:00</td>\n",
              "      <td>Alfortville/Blanqui/61</td>\n",
              "      <td>Alfortville</td>\n",
              "      <td>0</td>\n",
              "      <td>0</td>\n",
              "      <td>0</td>\n",
              "      <td>0</td>\n",
              "      <td>94140</td>\n",
              "      <td>0</td>\n",
              "      <td>9</td>\n",
              "      <td>True</td>\n",
              "      <td>0.0</td>\n",
              "      <td>0</td>\n",
              "      <td>0.0</td>\n",
              "    </tr>\n",
              "    <tr>\n",
              "      <th>4</th>\n",
              "      <td>2018-04-01 00:36:00</td>\n",
              "      <td>Alfortville/Charles de Gaulle/16</td>\n",
              "      <td>Alfortville</td>\n",
              "      <td>2</td>\n",
              "      <td>0</td>\n",
              "      <td>0</td>\n",
              "      <td>0</td>\n",
              "      <td>94140</td>\n",
              "      <td>0</td>\n",
              "      <td>0</td>\n",
              "      <td>False</td>\n",
              "      <td>-2.0</td>\n",
              "      <td>0</td>\n",
              "      <td>0.0</td>\n",
              "    </tr>\n",
              "    <tr>\n",
              "      <th>5</th>\n",
              "      <td>2018-04-01 01:36:00</td>\n",
              "      <td>Alfortville/Charles de Gaulle/16</td>\n",
              "      <td>Alfortville</td>\n",
              "      <td>4</td>\n",
              "      <td>0</td>\n",
              "      <td>0</td>\n",
              "      <td>0</td>\n",
              "      <td>94140</td>\n",
              "      <td>0</td>\n",
              "      <td>1</td>\n",
              "      <td>True</td>\n",
              "      <td>-2.0</td>\n",
              "      <td>0</td>\n",
              "      <td>0.0</td>\n",
              "    </tr>\n",
              "    <tr>\n",
              "      <th>6</th>\n",
              "      <td>2018-04-03 04:03:00</td>\n",
              "      <td>Alfortville/Charles de Gaulle/16</td>\n",
              "      <td>Alfortville</td>\n",
              "      <td>3</td>\n",
              "      <td>0</td>\n",
              "      <td>0</td>\n",
              "      <td>0</td>\n",
              "      <td>94140</td>\n",
              "      <td>3</td>\n",
              "      <td>4</td>\n",
              "      <td>True</td>\n",
              "      <td>1.0</td>\n",
              "      <td>0</td>\n",
              "      <td>0.0</td>\n",
              "    </tr>\n",
              "    <tr>\n",
              "      <th>7</th>\n",
              "      <td>2018-04-03 22:27:00</td>\n",
              "      <td>Alfortville/Charles de Gaulle/16</td>\n",
              "      <td>Alfortville</td>\n",
              "      <td>4</td>\n",
              "      <td>0</td>\n",
              "      <td>0</td>\n",
              "      <td>0</td>\n",
              "      <td>94140</td>\n",
              "      <td>1</td>\n",
              "      <td>22</td>\n",
              "      <td>True</td>\n",
              "      <td>-1.0</td>\n",
              "      <td>0</td>\n",
              "      <td>0.0</td>\n",
              "    </tr>\n",
              "    <tr>\n",
              "      <th>8</th>\n",
              "      <td>2018-04-04 03:30:00</td>\n",
              "      <td>Alfortville/Charles de Gaulle/16</td>\n",
              "      <td>Alfortville</td>\n",
              "      <td>6</td>\n",
              "      <td>0</td>\n",
              "      <td>0</td>\n",
              "      <td>0</td>\n",
              "      <td>94140</td>\n",
              "      <td>0</td>\n",
              "      <td>3</td>\n",
              "      <td>True</td>\n",
              "      <td>-2.0</td>\n",
              "      <td>0</td>\n",
              "      <td>0.0</td>\n",
              "    </tr>\n",
              "    <tr>\n",
              "      <th>9</th>\n",
              "      <td>2018-04-04 09:40:00</td>\n",
              "      <td>Alfortville/Etienne Dolet/174</td>\n",
              "      <td>Alfortville</td>\n",
              "      <td>1</td>\n",
              "      <td>0</td>\n",
              "      <td>0</td>\n",
              "      <td>0</td>\n",
              "      <td>94140</td>\n",
              "      <td>5</td>\n",
              "      <td>9</td>\n",
              "      <td>False</td>\n",
              "      <td>-1.0</td>\n",
              "      <td>0</td>\n",
              "      <td>0.0</td>\n",
              "    </tr>\n",
              "    <tr>\n",
              "      <th>10</th>\n",
              "      <td>2018-04-06 07:52:00</td>\n",
              "      <td>Alfortville/Etienne Dolet/174</td>\n",
              "      <td>Alfortville</td>\n",
              "      <td>4</td>\n",
              "      <td>0</td>\n",
              "      <td>0</td>\n",
              "      <td>0</td>\n",
              "      <td>94140</td>\n",
              "      <td>2</td>\n",
              "      <td>7</td>\n",
              "      <td>True</td>\n",
              "      <td>-3.0</td>\n",
              "      <td>0</td>\n",
              "      <td>0.0</td>\n",
              "    </tr>\n",
              "    <tr>\n",
              "      <th>11</th>\n",
              "      <td>2018-04-01 15:11:00</td>\n",
              "      <td>Alfortville/Europe/22</td>\n",
              "      <td>Alfortville</td>\n",
              "      <td>0</td>\n",
              "      <td>0</td>\n",
              "      <td>0</td>\n",
              "      <td>0</td>\n",
              "      <td>94140</td>\n",
              "      <td>0</td>\n",
              "      <td>15</td>\n",
              "      <td>False</td>\n",
              "      <td>0.0</td>\n",
              "      <td>0</td>\n",
              "      <td>0.0</td>\n",
              "    </tr>\n",
              "    <tr>\n",
              "      <th>12</th>\n",
              "      <td>2018-04-02 21:15:00</td>\n",
              "      <td>Alfortville/Europe/22</td>\n",
              "      <td>Alfortville</td>\n",
              "      <td>0</td>\n",
              "      <td>0</td>\n",
              "      <td>0</td>\n",
              "      <td>0</td>\n",
              "      <td>94140</td>\n",
              "      <td>0</td>\n",
              "      <td>21</td>\n",
              "      <td>True</td>\n",
              "      <td>0.0</td>\n",
              "      <td>0</td>\n",
              "      <td>0.0</td>\n",
              "    </tr>\n",
              "    <tr>\n",
              "      <th>13</th>\n",
              "      <td>2018-04-02 23:46:00</td>\n",
              "      <td>Alfortville/Europe/22</td>\n",
              "      <td>Alfortville</td>\n",
              "      <td>0</td>\n",
              "      <td>0</td>\n",
              "      <td>0</td>\n",
              "      <td>0</td>\n",
              "      <td>94140</td>\n",
              "      <td>0</td>\n",
              "      <td>23</td>\n",
              "      <td>True</td>\n",
              "      <td>0.0</td>\n",
              "      <td>0</td>\n",
              "      <td>0.0</td>\n",
              "    </tr>\n",
              "    <tr>\n",
              "      <th>14</th>\n",
              "      <td>2018-04-05 09:57:00</td>\n",
              "      <td>Alfortville/Europe/22</td>\n",
              "      <td>Alfortville</td>\n",
              "      <td>0</td>\n",
              "      <td>0</td>\n",
              "      <td>0</td>\n",
              "      <td>0</td>\n",
              "      <td>94140</td>\n",
              "      <td>0</td>\n",
              "      <td>9</td>\n",
              "      <td>True</td>\n",
              "      <td>0.0</td>\n",
              "      <td>0</td>\n",
              "      <td>0.0</td>\n",
              "    </tr>\n",
              "    <tr>\n",
              "      <th>15</th>\n",
              "      <td>2018-04-05 22:22:00</td>\n",
              "      <td>Alfortville/Europe/22</td>\n",
              "      <td>Alfortville</td>\n",
              "      <td>0</td>\n",
              "      <td>0</td>\n",
              "      <td>0</td>\n",
              "      <td>0</td>\n",
              "      <td>94140</td>\n",
              "      <td>0</td>\n",
              "      <td>22</td>\n",
              "      <td>True</td>\n",
              "      <td>0.0</td>\n",
              "      <td>0</td>\n",
              "      <td>0.0</td>\n",
              "    </tr>\n",
              "    <tr>\n",
              "      <th>16</th>\n",
              "      <td>2018-04-08 21:43:00</td>\n",
              "      <td>Alfortville/Europe/22</td>\n",
              "      <td>Alfortville</td>\n",
              "      <td>0</td>\n",
              "      <td>0</td>\n",
              "      <td>0</td>\n",
              "      <td>0</td>\n",
              "      <td>94140</td>\n",
              "      <td>0</td>\n",
              "      <td>21</td>\n",
              "      <td>True</td>\n",
              "      <td>0.0</td>\n",
              "      <td>0</td>\n",
              "      <td>0.0</td>\n",
              "    </tr>\n",
              "    <tr>\n",
              "      <th>17</th>\n",
              "      <td>2018-04-09 00:37:00</td>\n",
              "      <td>Alfortville/Europe/22</td>\n",
              "      <td>Alfortville</td>\n",
              "      <td>0</td>\n",
              "      <td>0</td>\n",
              "      <td>0</td>\n",
              "      <td>0</td>\n",
              "      <td>94140</td>\n",
              "      <td>0</td>\n",
              "      <td>0</td>\n",
              "      <td>True</td>\n",
              "      <td>0.0</td>\n",
              "      <td>0</td>\n",
              "      <td>0.0</td>\n",
              "    </tr>\n",
              "    <tr>\n",
              "      <th>18</th>\n",
              "      <td>2018-04-01 05:24:00</td>\n",
              "      <td>Alfortville/Jean-Baptiste Preux/17</td>\n",
              "      <td>Alfortville</td>\n",
              "      <td>6</td>\n",
              "      <td>0</td>\n",
              "      <td>0</td>\n",
              "      <td>0</td>\n",
              "      <td>94140</td>\n",
              "      <td>0</td>\n",
              "      <td>5</td>\n",
              "      <td>False</td>\n",
              "      <td>-6.0</td>\n",
              "      <td>0</td>\n",
              "      <td>0.0</td>\n",
              "    </tr>\n",
              "    <tr>\n",
              "      <th>19</th>\n",
              "      <td>2018-04-02 23:47:00</td>\n",
              "      <td>Alfortville/Jean-Baptiste Preux/17</td>\n",
              "      <td>Alfortville</td>\n",
              "      <td>2</td>\n",
              "      <td>1</td>\n",
              "      <td>0</td>\n",
              "      <td>0</td>\n",
              "      <td>94140</td>\n",
              "      <td>3</td>\n",
              "      <td>23</td>\n",
              "      <td>True</td>\n",
              "      <td>4.0</td>\n",
              "      <td>1</td>\n",
              "      <td>-1.0</td>\n",
              "    </tr>\n",
              "    <tr>\n",
              "      <th>20</th>\n",
              "      <td>2018-04-04 20:19:00</td>\n",
              "      <td>Alfortville/Jean-Baptiste Preux/17</td>\n",
              "      <td>Alfortville</td>\n",
              "      <td>1</td>\n",
              "      <td>0</td>\n",
              "      <td>0</td>\n",
              "      <td>0</td>\n",
              "      <td>94140</td>\n",
              "      <td>4</td>\n",
              "      <td>20</td>\n",
              "      <td>True</td>\n",
              "      <td>1.0</td>\n",
              "      <td>0</td>\n",
              "      <td>1.0</td>\n",
              "    </tr>\n",
              "    <tr>\n",
              "      <th>21</th>\n",
              "      <td>2018-04-07 08:15:00</td>\n",
              "      <td>Alfortville/Jean-Baptiste Preux/17</td>\n",
              "      <td>Alfortville</td>\n",
              "      <td>4</td>\n",
              "      <td>0</td>\n",
              "      <td>0</td>\n",
              "      <td>0</td>\n",
              "      <td>94140</td>\n",
              "      <td>2</td>\n",
              "      <td>8</td>\n",
              "      <td>True</td>\n",
              "      <td>-3.0</td>\n",
              "      <td>0</td>\n",
              "      <td>0.0</td>\n",
              "    </tr>\n",
              "    <tr>\n",
              "      <th>22</th>\n",
              "      <td>2018-04-01 02:00:00</td>\n",
              "      <td>Alfortville/Joseph Franceschi/1</td>\n",
              "      <td>Alfortville</td>\n",
              "      <td>4</td>\n",
              "      <td>0</td>\n",
              "      <td>0</td>\n",
              "      <td>0</td>\n",
              "      <td>94140</td>\n",
              "      <td>0</td>\n",
              "      <td>2</td>\n",
              "      <td>False</td>\n",
              "      <td>-4.0</td>\n",
              "      <td>0</td>\n",
              "      <td>0.0</td>\n",
              "    </tr>\n",
              "    <tr>\n",
              "      <th>23</th>\n",
              "      <td>2018-04-01 23:00:00</td>\n",
              "      <td>Alfortville/Joseph Franceschi/1</td>\n",
              "      <td>Alfortville</td>\n",
              "      <td>5</td>\n",
              "      <td>0</td>\n",
              "      <td>0</td>\n",
              "      <td>0</td>\n",
              "      <td>94140</td>\n",
              "      <td>0</td>\n",
              "      <td>23</td>\n",
              "      <td>True</td>\n",
              "      <td>-1.0</td>\n",
              "      <td>0</td>\n",
              "      <td>0.0</td>\n",
              "    </tr>\n",
              "    <tr>\n",
              "      <th>24</th>\n",
              "      <td>2018-04-03 20:54:00</td>\n",
              "      <td>Alfortville/Joseph Franceschi/1</td>\n",
              "      <td>Alfortville</td>\n",
              "      <td>3</td>\n",
              "      <td>0</td>\n",
              "      <td>0</td>\n",
              "      <td>0</td>\n",
              "      <td>94140</td>\n",
              "      <td>2</td>\n",
              "      <td>20</td>\n",
              "      <td>True</td>\n",
              "      <td>2.0</td>\n",
              "      <td>0</td>\n",
              "      <td>0.0</td>\n",
              "    </tr>\n",
              "    <tr>\n",
              "      <th>25</th>\n",
              "      <td>2018-04-04 11:48:00</td>\n",
              "      <td>Alfortville/Joseph Franceschi/1</td>\n",
              "      <td>Alfortville</td>\n",
              "      <td>0</td>\n",
              "      <td>0</td>\n",
              "      <td>0</td>\n",
              "      <td>0</td>\n",
              "      <td>94140</td>\n",
              "      <td>5</td>\n",
              "      <td>11</td>\n",
              "      <td>True</td>\n",
              "      <td>3.0</td>\n",
              "      <td>0</td>\n",
              "      <td>0.0</td>\n",
              "    </tr>\n",
              "    <tr>\n",
              "      <th>26</th>\n",
              "      <td>2018-04-08 04:21:00</td>\n",
              "      <td>Alfortville/Joseph Franceschi/1</td>\n",
              "      <td>Alfortville</td>\n",
              "      <td>5</td>\n",
              "      <td>0</td>\n",
              "      <td>0</td>\n",
              "      <td>0</td>\n",
              "      <td>94140</td>\n",
              "      <td>1</td>\n",
              "      <td>4</td>\n",
              "      <td>True</td>\n",
              "      <td>-5.0</td>\n",
              "      <td>0</td>\n",
              "      <td>0.0</td>\n",
              "    </tr>\n",
              "    <tr>\n",
              "      <th>27</th>\n",
              "      <td>2018-04-01 01:28:00</td>\n",
              "      <td>Alfortville/Malleret/16</td>\n",
              "      <td>Alfortville</td>\n",
              "      <td>4</td>\n",
              "      <td>1</td>\n",
              "      <td>0</td>\n",
              "      <td>0</td>\n",
              "      <td>94140</td>\n",
              "      <td>0</td>\n",
              "      <td>1</td>\n",
              "      <td>False</td>\n",
              "      <td>-4.0</td>\n",
              "      <td>1</td>\n",
              "      <td>-1.0</td>\n",
              "    </tr>\n",
              "    <tr>\n",
              "      <th>28</th>\n",
              "      <td>2018-04-02 16:21:00</td>\n",
              "      <td>Alfortville/Malleret/16</td>\n",
              "      <td>Alfortville</td>\n",
              "      <td>0</td>\n",
              "      <td>0</td>\n",
              "      <td>0</td>\n",
              "      <td>0</td>\n",
              "      <td>94140</td>\n",
              "      <td>4</td>\n",
              "      <td>16</td>\n",
              "      <td>True</td>\n",
              "      <td>4.0</td>\n",
              "      <td>0</td>\n",
              "      <td>1.0</td>\n",
              "    </tr>\n",
              "    <tr>\n",
              "      <th>29</th>\n",
              "      <td>2018-04-03 04:08:00</td>\n",
              "      <td>Alfortville/Malleret/16</td>\n",
              "      <td>Alfortville</td>\n",
              "      <td>4</td>\n",
              "      <td>0</td>\n",
              "      <td>0</td>\n",
              "      <td>0</td>\n",
              "      <td>94140</td>\n",
              "      <td>2</td>\n",
              "      <td>4</td>\n",
              "      <td>True</td>\n",
              "      <td>-4.0</td>\n",
              "      <td>0</td>\n",
              "      <td>0.0</td>\n",
              "    </tr>\n",
              "    <tr>\n",
              "      <th>30</th>\n",
              "      <td>2018-04-03 12:42:00</td>\n",
              "      <td>Alfortville/Malleret/16</td>\n",
              "      <td>Alfortville</td>\n",
              "      <td>0</td>\n",
              "      <td>0</td>\n",
              "      <td>0</td>\n",
              "      <td>0</td>\n",
              "      <td>94140</td>\n",
              "      <td>6</td>\n",
              "      <td>12</td>\n",
              "      <td>True</td>\n",
              "      <td>4.0</td>\n",
              "      <td>0</td>\n",
              "      <td>0.0</td>\n",
              "    </tr>\n",
              "    <tr>\n",
              "      <th>31</th>\n",
              "      <td>2018-04-06 20:56:00</td>\n",
              "      <td>Alfortville/Malleret/16</td>\n",
              "      <td>Alfortville</td>\n",
              "      <td>5</td>\n",
              "      <td>1</td>\n",
              "      <td>0</td>\n",
              "      <td>0</td>\n",
              "      <td>94140</td>\n",
              "      <td>0</td>\n",
              "      <td>20</td>\n",
              "      <td>True</td>\n",
              "      <td>-5.0</td>\n",
              "      <td>1</td>\n",
              "      <td>-1.0</td>\n",
              "    </tr>\n",
              "    <tr>\n",
              "      <th>32</th>\n",
              "      <td>2018-04-07 16:28:00</td>\n",
              "      <td>Alfortville/Malleret/16</td>\n",
              "      <td>Alfortville</td>\n",
              "      <td>1</td>\n",
              "      <td>0</td>\n",
              "      <td>0</td>\n",
              "      <td>0</td>\n",
              "      <td>94140</td>\n",
              "      <td>4</td>\n",
              "      <td>16</td>\n",
              "      <td>True</td>\n",
              "      <td>4.0</td>\n",
              "      <td>0</td>\n",
              "      <td>1.0</td>\n",
              "    </tr>\n",
              "    <tr>\n",
              "      <th>33</th>\n",
              "      <td>2018-04-09 21:06:00</td>\n",
              "      <td>Alfortville/Malleret/16</td>\n",
              "      <td>Alfortville</td>\n",
              "      <td>5</td>\n",
              "      <td>0</td>\n",
              "      <td>0</td>\n",
              "      <td>0</td>\n",
              "      <td>94140</td>\n",
              "      <td>0</td>\n",
              "      <td>21</td>\n",
              "      <td>True</td>\n",
              "      <td>-4.0</td>\n",
              "      <td>0</td>\n",
              "      <td>0.0</td>\n",
              "    </tr>\n",
              "    <tr>\n",
              "      <th>34</th>\n",
              "      <td>2018-04-02 19:10:00</td>\n",
              "      <td>Alfortville/Port Ã  l'Anglais/39</td>\n",
              "      <td>Alfortville</td>\n",
              "      <td>0</td>\n",
              "      <td>0</td>\n",
              "      <td>0</td>\n",
              "      <td>0</td>\n",
              "      <td>94140</td>\n",
              "      <td>5</td>\n",
              "      <td>19</td>\n",
              "      <td>False</td>\n",
              "      <td>0.0</td>\n",
              "      <td>0</td>\n",
              "      <td>0.0</td>\n",
              "    </tr>\n",
              "    <tr>\n",
              "      <th>35</th>\n",
              "      <td>2018-04-02 21:41:00</td>\n",
              "      <td>Alfortville/Port Ã  l'Anglais/39</td>\n",
              "      <td>Alfortville</td>\n",
              "      <td>1</td>\n",
              "      <td>0</td>\n",
              "      <td>0</td>\n",
              "      <td>0</td>\n",
              "      <td>94140</td>\n",
              "      <td>4</td>\n",
              "      <td>21</td>\n",
              "      <td>True</td>\n",
              "      <td>-1.0</td>\n",
              "      <td>0</td>\n",
              "      <td>0.0</td>\n",
              "    </tr>\n",
              "    <tr>\n",
              "      <th>36</th>\n",
              "      <td>2018-04-03 19:05:00</td>\n",
              "      <td>Alfortville/Port Ã  l'Anglais/39</td>\n",
              "      <td>Alfortville</td>\n",
              "      <td>1</td>\n",
              "      <td>0</td>\n",
              "      <td>0</td>\n",
              "      <td>0</td>\n",
              "      <td>94140</td>\n",
              "      <td>5</td>\n",
              "      <td>19</td>\n",
              "      <td>True</td>\n",
              "      <td>0.0</td>\n",
              "      <td>0</td>\n",
              "      <td>0.0</td>\n",
              "    </tr>\n",
              "    <tr>\n",
              "      <th>37</th>\n",
              "      <td>2018-04-04 09:59:00</td>\n",
              "      <td>Alfortville/Port Ã  l'Anglais/39</td>\n",
              "      <td>Alfortville</td>\n",
              "      <td>2</td>\n",
              "      <td>1</td>\n",
              "      <td>0</td>\n",
              "      <td>0</td>\n",
              "      <td>94140</td>\n",
              "      <td>1</td>\n",
              "      <td>9</td>\n",
              "      <td>True</td>\n",
              "      <td>-1.0</td>\n",
              "      <td>1</td>\n",
              "      <td>-1.0</td>\n",
              "    </tr>\n",
              "    <tr>\n",
              "      <th>38</th>\n",
              "      <td>2018-04-08 03:30:00</td>\n",
              "      <td>Alfortville/Port Ã  l'Anglais/39</td>\n",
              "      <td>Alfortville</td>\n",
              "      <td>5</td>\n",
              "      <td>0</td>\n",
              "      <td>0</td>\n",
              "      <td>0</td>\n",
              "      <td>94140</td>\n",
              "      <td>1</td>\n",
              "      <td>3</td>\n",
              "      <td>True</td>\n",
              "      <td>-3.0</td>\n",
              "      <td>0</td>\n",
              "      <td>1.0</td>\n",
              "    </tr>\n",
              "    <tr>\n",
              "      <th>39</th>\n",
              "      <td>2018-04-09 17:12:00</td>\n",
              "      <td>Alfortville/Port Ã  l'Anglais/39</td>\n",
              "      <td>Alfortville</td>\n",
              "      <td>4</td>\n",
              "      <td>0</td>\n",
              "      <td>0</td>\n",
              "      <td>0</td>\n",
              "      <td>94140</td>\n",
              "      <td>1</td>\n",
              "      <td>17</td>\n",
              "      <td>True</td>\n",
              "      <td>1.0</td>\n",
              "      <td>0</td>\n",
              "      <td>0.0</td>\n",
              "    </tr>\n",
              "    <tr>\n",
              "      <th>40</th>\n",
              "      <td>2018-04-09 18:33:00</td>\n",
              "      <td>Alfortville/Port Ã  l'Anglais/39</td>\n",
              "      <td>Alfortville</td>\n",
              "      <td>4</td>\n",
              "      <td>0</td>\n",
              "      <td>0</td>\n",
              "      <td>0</td>\n",
              "      <td>94140</td>\n",
              "      <td>1</td>\n",
              "      <td>18</td>\n",
              "      <td>True</td>\n",
              "      <td>0.0</td>\n",
              "      <td>0</td>\n",
              "      <td>0.0</td>\n",
              "    </tr>\n",
              "    <tr>\n",
              "      <th>41</th>\n",
              "      <td>2018-04-01 14:21:00</td>\n",
              "      <td>Alfortville/Verdun/39</td>\n",
              "      <td>Alfortville</td>\n",
              "      <td>0</td>\n",
              "      <td>0</td>\n",
              "      <td>0</td>\n",
              "      <td>0</td>\n",
              "      <td>94140</td>\n",
              "      <td>0</td>\n",
              "      <td>14</td>\n",
              "      <td>False</td>\n",
              "      <td>0.0</td>\n",
              "      <td>0</td>\n",
              "      <td>0.0</td>\n",
              "    </tr>\n",
              "    <tr>\n",
              "      <th>42</th>\n",
              "      <td>2018-04-02 17:05:00</td>\n",
              "      <td>Alfortville/Verdun/39</td>\n",
              "      <td>Alfortville</td>\n",
              "      <td>0</td>\n",
              "      <td>0</td>\n",
              "      <td>0</td>\n",
              "      <td>0</td>\n",
              "      <td>94140</td>\n",
              "      <td>0</td>\n",
              "      <td>17</td>\n",
              "      <td>True</td>\n",
              "      <td>0.0</td>\n",
              "      <td>0</td>\n",
              "      <td>0.0</td>\n",
              "    </tr>\n",
              "    <tr>\n",
              "      <th>43</th>\n",
              "      <td>2018-04-03 09:48:00</td>\n",
              "      <td>Alfortville/Verdun/39</td>\n",
              "      <td>Alfortville</td>\n",
              "      <td>0</td>\n",
              "      <td>0</td>\n",
              "      <td>0</td>\n",
              "      <td>0</td>\n",
              "      <td>94140</td>\n",
              "      <td>0</td>\n",
              "      <td>9</td>\n",
              "      <td>True</td>\n",
              "      <td>0.0</td>\n",
              "      <td>0</td>\n",
              "      <td>0.0</td>\n",
              "    </tr>\n",
              "    <tr>\n",
              "      <th>44</th>\n",
              "      <td>2018-04-04 11:58:00</td>\n",
              "      <td>Alfortville/Verdun/39</td>\n",
              "      <td>Alfortville</td>\n",
              "      <td>0</td>\n",
              "      <td>0</td>\n",
              "      <td>0</td>\n",
              "      <td>0</td>\n",
              "      <td>94140</td>\n",
              "      <td>0</td>\n",
              "      <td>11</td>\n",
              "      <td>True</td>\n",
              "      <td>0.0</td>\n",
              "      <td>0</td>\n",
              "      <td>0.0</td>\n",
              "    </tr>\n",
              "    <tr>\n",
              "      <th>45</th>\n",
              "      <td>2018-04-09 17:57:00</td>\n",
              "      <td>Alfortville/Verdun/39</td>\n",
              "      <td>Alfortville</td>\n",
              "      <td>0</td>\n",
              "      <td>0</td>\n",
              "      <td>0</td>\n",
              "      <td>0</td>\n",
              "      <td>94140</td>\n",
              "      <td>0</td>\n",
              "      <td>17</td>\n",
              "      <td>True</td>\n",
              "      <td>0.0</td>\n",
              "      <td>0</td>\n",
              "      <td>0.0</td>\n",
              "    </tr>\n",
              "    <tr>\n",
              "      <th>46</th>\n",
              "      <td>2018-04-01 10:25:00</td>\n",
              "      <td>Antony/Alexis de Tocqueville/4</td>\n",
              "      <td>Antony</td>\n",
              "      <td>6</td>\n",
              "      <td>0</td>\n",
              "      <td>0</td>\n",
              "      <td>0</td>\n",
              "      <td>92160</td>\n",
              "      <td>0</td>\n",
              "      <td>10</td>\n",
              "      <td>False</td>\n",
              "      <td>-6.0</td>\n",
              "      <td>0</td>\n",
              "      <td>0.0</td>\n",
              "    </tr>\n",
              "    <tr>\n",
              "      <th>47</th>\n",
              "      <td>2018-04-01 18:49:00</td>\n",
              "      <td>Antony/Alexis de Tocqueville/4</td>\n",
              "      <td>Antony</td>\n",
              "      <td>4</td>\n",
              "      <td>0</td>\n",
              "      <td>0</td>\n",
              "      <td>0</td>\n",
              "      <td>92160</td>\n",
              "      <td>1</td>\n",
              "      <td>18</td>\n",
              "      <td>True</td>\n",
              "      <td>2.0</td>\n",
              "      <td>0</td>\n",
              "      <td>0.0</td>\n",
              "    </tr>\n",
              "    <tr>\n",
              "      <th>48</th>\n",
              "      <td>2018-04-02 11:09:00</td>\n",
              "      <td>Antony/Alexis de Tocqueville/4</td>\n",
              "      <td>Antony</td>\n",
              "      <td>1</td>\n",
              "      <td>0</td>\n",
              "      <td>0</td>\n",
              "      <td>0</td>\n",
              "      <td>92160</td>\n",
              "      <td>4</td>\n",
              "      <td>11</td>\n",
              "      <td>True</td>\n",
              "      <td>3.0</td>\n",
              "      <td>0</td>\n",
              "      <td>0.0</td>\n",
              "    </tr>\n",
              "    <tr>\n",
              "      <th>49</th>\n",
              "      <td>2018-04-04 09:59:00</td>\n",
              "      <td>Antony/Alexis de Tocqueville/4</td>\n",
              "      <td>Antony</td>\n",
              "      <td>6</td>\n",
              "      <td>0</td>\n",
              "      <td>1</td>\n",
              "      <td>0</td>\n",
              "      <td>92160</td>\n",
              "      <td>0</td>\n",
              "      <td>9</td>\n",
              "      <td>True</td>\n",
              "      <td>-5.0</td>\n",
              "      <td>1</td>\n",
              "      <td>-1.0</td>\n",
              "    </tr>\n",
              "  </tbody>\n",
              "</table>\n",
              "</div>"
            ],
            "text/plain": [
              "                 Dates  ... All_Difference\n",
              "0  2018-04-02 19:28:00  ...            0.0\n",
              "1  2018-04-04 09:05:00  ...            0.0\n",
              "2  2018-04-07 18:40:00  ...            0.0\n",
              "3  2018-04-09 09:01:00  ...            0.0\n",
              "4  2018-04-01 00:36:00  ...            0.0\n",
              "5  2018-04-01 01:36:00  ...            0.0\n",
              "6  2018-04-03 04:03:00  ...            0.0\n",
              "7  2018-04-03 22:27:00  ...            0.0\n",
              "8  2018-04-04 03:30:00  ...            0.0\n",
              "9  2018-04-04 09:40:00  ...            0.0\n",
              "10 2018-04-06 07:52:00  ...            0.0\n",
              "11 2018-04-01 15:11:00  ...            0.0\n",
              "12 2018-04-02 21:15:00  ...            0.0\n",
              "13 2018-04-02 23:46:00  ...            0.0\n",
              "14 2018-04-05 09:57:00  ...            0.0\n",
              "15 2018-04-05 22:22:00  ...            0.0\n",
              "16 2018-04-08 21:43:00  ...            0.0\n",
              "17 2018-04-09 00:37:00  ...            0.0\n",
              "18 2018-04-01 05:24:00  ...            0.0\n",
              "19 2018-04-02 23:47:00  ...           -1.0\n",
              "20 2018-04-04 20:19:00  ...            1.0\n",
              "21 2018-04-07 08:15:00  ...            0.0\n",
              "22 2018-04-01 02:00:00  ...            0.0\n",
              "23 2018-04-01 23:00:00  ...            0.0\n",
              "24 2018-04-03 20:54:00  ...            0.0\n",
              "25 2018-04-04 11:48:00  ...            0.0\n",
              "26 2018-04-08 04:21:00  ...            0.0\n",
              "27 2018-04-01 01:28:00  ...           -1.0\n",
              "28 2018-04-02 16:21:00  ...            1.0\n",
              "29 2018-04-03 04:08:00  ...            0.0\n",
              "30 2018-04-03 12:42:00  ...            0.0\n",
              "31 2018-04-06 20:56:00  ...           -1.0\n",
              "32 2018-04-07 16:28:00  ...            1.0\n",
              "33 2018-04-09 21:06:00  ...            0.0\n",
              "34 2018-04-02 19:10:00  ...            0.0\n",
              "35 2018-04-02 21:41:00  ...            0.0\n",
              "36 2018-04-03 19:05:00  ...            0.0\n",
              "37 2018-04-04 09:59:00  ...           -1.0\n",
              "38 2018-04-08 03:30:00  ...            1.0\n",
              "39 2018-04-09 17:12:00  ...            0.0\n",
              "40 2018-04-09 18:33:00  ...            0.0\n",
              "41 2018-04-01 14:21:00  ...            0.0\n",
              "42 2018-04-02 17:05:00  ...            0.0\n",
              "43 2018-04-03 09:48:00  ...            0.0\n",
              "44 2018-04-04 11:58:00  ...            0.0\n",
              "45 2018-04-09 17:57:00  ...            0.0\n",
              "46 2018-04-01 10:25:00  ...            0.0\n",
              "47 2018-04-01 18:49:00  ...            0.0\n",
              "48 2018-04-02 11:09:00  ...            0.0\n",
              "49 2018-04-04 09:59:00  ...           -1.0\n",
              "\n",
              "[50 rows x 14 columns]"
            ]
          },
          "metadata": {
            "tags": []
          },
          "execution_count": 208
        }
      ]
    },
    {
      "cell_type": "markdown",
      "metadata": {
        "id": "FWq5tX_heo9s"
      },
      "source": [
        "# Answering Questions"
      ]
    },
    {
      "cell_type": "markdown",
      "metadata": {
        "id": "2NcpbjrkEFZv"
      },
      "source": [
        "***Identify the most popular hour of the day for picking up a shared electric car (Bluecar) in the city of Paris over the month of April 2018.***"
      ]
    },
    {
      "cell_type": "code",
      "metadata": {
        "colab": {
          "base_uri": "https://localhost:8080/"
        },
        "id": "XK8lXPA_B7ke",
        "outputId": "102bb313-9ef8-4ef1-b538-6352412a7d8e"
      },
      "source": [
        "#where difference is negative it means vehicles have been retruned from the previous time there was a counter (Checking) since we have many vehicles: (Returning)\n",
        "#Positivee means vehiles have been taken since we have fewer vehicles in the parking than the previous check: (Picking)\n",
        "\n",
        "\n",
        "# Hour 21 is when Blue Cars are picked\n",
        "\n",
        "#autolib_active[(autolib_active['Blue_Difference']>0) ].groupby('Hour').sum()['Blue_Difference'].sort_values(ascending =False).head()\n",
        "autolib_active[(autolib_active['Blue_Difference']>0)&(autolib_active.City == \"Paris\") ].groupby(['Hour']).sum()['Blue_Difference'].sort_values(ascending =False).head()"
      ],
      "execution_count": 209,
      "outputs": [
        {
          "output_type": "execute_result",
          "data": {
            "text/plain": [
              "Hour\n",
              "21    109.0\n",
              "18     91.0\n",
              "22     88.0\n",
              "17     88.0\n",
              "10     81.0\n",
              "Name: Blue_Difference, dtype: float64"
            ]
          },
          "metadata": {
            "tags": []
          },
          "execution_count": 209
        }
      ]
    },
    {
      "cell_type": "markdown",
      "metadata": {
        "id": "VMvnIfZZSt5g"
      },
      "source": [
        "***Most popular Hour for picking all other cars***"
      ]
    },
    {
      "cell_type": "code",
      "metadata": {
        "colab": {
          "base_uri": "https://localhost:8080/"
        },
        "id": "8Soha8NySzH1",
        "outputId": "f9f677ff-290a-441a-fd98-82f743f794ee"
      },
      "source": [
        "autolib_active[(autolib_active['All_Difference']>0) &(autolib_active.City == \"Paris\")].groupby('Hour').sum()['All_Difference'].sort_values(ascending =False).head()\n",
        "#Hour 11 is the most popular for picking other cars "
      ],
      "execution_count": 210,
      "outputs": [
        {
          "output_type": "execute_result",
          "data": {
            "text/plain": [
              "Hour\n",
              "11    20.0\n",
              "12    18.0\n",
              "18    17.0\n",
              "3     16.0\n",
              "23    16.0\n",
              "Name: All_Difference, dtype: float64"
            ]
          },
          "metadata": {
            "tags": []
          },
          "execution_count": 210
        }
      ]
    },
    {
      "cell_type": "markdown",
      "metadata": {
        "id": "0v3KoZZdNMDG"
      },
      "source": [
        "***Most popular hour for returning Blue cars***"
      ]
    },
    {
      "cell_type": "code",
      "metadata": {
        "id": "q-tU82I1d4BQ",
        "colab": {
          "base_uri": "https://localhost:8080/"
        },
        "outputId": "88bcb14d-06e6-4b1e-8ea3-cf56d8eaaa97"
      },
      "source": [
        "\n",
        "\n",
        "#Hour 9 is the most popular hour for returning blue cars\n",
        "autolib_active[(autolib_active['Blue_Difference']<0) &(autolib_active.City == \"Paris\")].groupby('Hour').sum()['Blue_Difference'].sort_values().head()"
      ],
      "execution_count": 211,
      "outputs": [
        {
          "output_type": "execute_result",
          "data": {
            "text/plain": [
              "Hour\n",
              "9    -147.0\n",
              "12   -141.0\n",
              "6    -137.0\n",
              "10   -129.0\n",
              "21   -127.0\n",
              "Name: Blue_Difference, dtype: float64"
            ]
          },
          "metadata": {
            "tags": []
          },
          "execution_count": 211
        }
      ]
    },
    {
      "cell_type": "markdown",
      "metadata": {
        "id": "AB_Spa0yNlTY"
      },
      "source": [
        "***What is the most popular hour for returning cars (other cars)?***"
      ]
    },
    {
      "cell_type": "code",
      "metadata": {
        "colab": {
          "base_uri": "https://localhost:8080/"
        },
        "id": "7ihr2rQgEiA1",
        "outputId": "ef3d1da8-997c-40da-edfa-b9f6dc005224"
      },
      "source": [
        "autolib_active[(autolib_active['All_Difference']<0) &(autolib_active.City == \"Paris\")].groupby('Hour').sum()['All_Difference'].sort_values().head()\n",
        "# Hour 21 is the most popular hour for returning all cars "
      ],
      "execution_count": 212,
      "outputs": [
        {
          "output_type": "execute_result",
          "data": {
            "text/plain": [
              "Hour\n",
              "6    -27.0\n",
              "17   -24.0\n",
              "21   -23.0\n",
              "8    -22.0\n",
              "5    -19.0\n",
              "Name: All_Difference, dtype: float64"
            ]
          },
          "metadata": {
            "tags": []
          },
          "execution_count": 212
        }
      ]
    },
    {
      "cell_type": "markdown",
      "metadata": {
        "id": "G2MDruDGOBhA"
      },
      "source": [
        "***What station is the most popular Overrally?***"
      ]
    },
    {
      "cell_type": "code",
      "metadata": {
        "colab": {
          "base_uri": "https://localhost:8080/"
        },
        "id": "x7-iYUDGNyha",
        "outputId": "babe396a-3ce4-47f6-c05b-75e89c8a9610"
      },
      "source": [
        "df[(df['Kind']==\"STATION\") &(df.City == \"Paris\")]['Public_Name'].value_counts().head()\n",
        "\n",
        "#The most popular station is Paris/Porte de Montrouge/8 "
      ],
      "execution_count": 213,
      "outputs": [
        {
          "output_type": "execute_result",
          "data": {
            "text/plain": [
              "Paris/Porte de Montrouge/8    13\n",
              "Paris/Philippe Auguste/126    11\n",
              "Paris/Voltaire/182            11\n",
              "Paris/Courcelles/69           11\n",
              "Paris/Mathis/35               11\n",
              "Name: Public_Name, dtype: int64"
            ]
          },
          "metadata": {
            "tags": []
          },
          "execution_count": 213
        }
      ]
    },
    {
      "cell_type": "markdown",
      "metadata": {
        "id": "TiDN6fKDR2OS"
      },
      "source": [
        "***Most popular station during popular picking hours***"
      ]
    },
    {
      "cell_type": "code",
      "metadata": {
        "colab": {
          "base_uri": "https://localhost:8080/"
        },
        "id": "573R9OblOUv_",
        "outputId": "c2c455ce-e59e-4609-a322-b8ccd1fca77e"
      },
      "source": [
        "df[(df['Kind']==\"STATION\") & (df['Hour']==5)]['Public_Name'].value_counts().head(1)\n",
        "# the sttaion is Paris/ChÃ¢teau Landon/24  "
      ],
      "execution_count": 222,
      "outputs": [
        {
          "output_type": "execute_result",
          "data": {
            "text/plain": [
              "Paris/ChÃ¢teau Landon/24    3\n",
              "Name: Public_Name, dtype: int64"
            ]
          },
          "metadata": {
            "tags": []
          },
          "execution_count": 222
        }
      ]
    },
    {
      "cell_type": "markdown",
      "metadata": {
        "id": "36TDOM4fTjf5"
      },
      "source": [
        "***What postal code is the most popular for picking up Blue cars? Does the most popular station belong to that postal code?***\n"
      ]
    },
    {
      "cell_type": "code",
      "metadata": {
        "colab": {
          "base_uri": "https://localhost:8080/"
        },
        "id": "IC8sIHVYSbu4",
        "outputId": "b3a10607-88f3-4744-9d6f-5830521f7ab3"
      },
      "source": [
        "autolib_active[(autolib_active['Blue_Difference']>0) &(autolib_active.City == \"Paris\")]['Postal_Code'].value_counts(ascending = False).head()\n",
        "\n",
        "#The most popular postal code is 75015. It does not belong to the most popular station since the most popular station code is 75014"
      ],
      "execution_count": 215,
      "outputs": [
        {
          "output_type": "execute_result",
          "data": {
            "text/plain": [
              "75015    76\n",
              "75017    74\n",
              "75016    70\n",
              "75011    53\n",
              "75013    52\n",
              "Name: Postal_Code, dtype: int64"
            ]
          },
          "metadata": {
            "tags": []
          },
          "execution_count": 215
        }
      ]
    },
    {
      "cell_type": "markdown",
      "metadata": {
        "id": "HNocYiWpWq2x"
      },
      "source": [
        "***Most popular postal code at the most popular picking hour***"
      ]
    },
    {
      "cell_type": "code",
      "metadata": {
        "colab": {
          "base_uri": "https://localhost:8080/"
        },
        "id": "iFzQO8NQWz77",
        "outputId": "6e0bbdb4-c987-430a-fbf5-a8259d0d8f5f"
      },
      "source": [
        "autolib_active[(autolib_active['Blue_Difference']>0) & (df['Hour']==21) &(autolib_active.City == \"Paris\") ]['Postal_Code'].value_counts(ascending = False).head()\n",
        "# Codes is 75017\n"
      ],
      "execution_count": 216,
      "outputs": [
        {
          "output_type": "execute_result",
          "data": {
            "text/plain": [
              "75017    9\n",
              "75015    4\n",
              "75013    4\n",
              "75019    3\n",
              "75011    3\n",
              "Name: Postal_Code, dtype: int64"
            ]
          },
          "metadata": {
            "tags": []
          },
          "execution_count": 216
        }
      ]
    },
    {
      "cell_type": "markdown",
      "metadata": {
        "id": "RIPgA06VXuId"
      },
      "source": [
        "***Most popular postal code for other cars***"
      ]
    },
    {
      "cell_type": "code",
      "metadata": {
        "colab": {
          "base_uri": "https://localhost:8080/"
        },
        "id": "TH46IcYQUyWk",
        "outputId": "8798620b-5453-4571-bc0b-93985ed14ce0"
      },
      "source": [
        "autolib_active[(autolib_active['All_Difference']>0) &(autolib_active.City == \"Paris\")]['Postal_Code'].value_counts(ascending = False).head()\n",
        "#Most popular postal code is 75017. \n"
      ],
      "execution_count": 217,
      "outputs": [
        {
          "output_type": "execute_result",
          "data": {
            "text/plain": [
              "75017    33\n",
              "75015    28\n",
              "75016    22\n",
              "75020    20\n",
              "75013    19\n",
              "Name: Postal_Code, dtype: int64"
            ]
          },
          "metadata": {
            "tags": []
          },
          "execution_count": 217
        }
      ]
    },
    {
      "cell_type": "code",
      "metadata": {
        "colab": {
          "base_uri": "https://localhost:8080/"
        },
        "id": "6Njk1TLYYk6T",
        "outputId": "1c573685-7d19-4d28-e1b5-4c2c15acbef2"
      },
      "source": [
        "autolib_active[(autolib_active['All_Difference']>0) & (df['Hour']==18) &(autolib_active.City == \"Paris\") ]['Postal_Code'].value_counts(ascending = False).head()"
      ],
      "execution_count": 218,
      "outputs": [
        {
          "output_type": "execute_result",
          "data": {
            "text/plain": [
              "75017    3\n",
              "75001    1\n",
              "75012    1\n",
              "75020    1\n",
              "75008    1\n",
              "Name: Postal_Code, dtype: int64"
            ]
          },
          "metadata": {
            "tags": []
          },
          "execution_count": 218
        }
      ]
    },
    {
      "cell_type": "code",
      "metadata": {
        "id": "t44q69nSZttg"
      },
      "source": [
        "#Most popular postal code is 75017"
      ],
      "execution_count": 219,
      "outputs": []
    },
    {
      "cell_type": "code",
      "metadata": {
        "colab": {
          "base_uri": "https://localhost:8080/"
        },
        "id": "VWUMODImRuzQ",
        "outputId": "ecbafdf0-611e-4a93-f893-8feb6285387b"
      },
      "source": [
        "#Most popular postal code overrally \n",
        "autolib_active[autolib_active['City']=='Paris']['Postal_Code'].value_counts().sort_values(ascending=False).head()"
      ],
      "execution_count": 220,
      "outputs": [
        {
          "output_type": "execute_result",
          "data": {
            "text/plain": [
              "75015    274\n",
              "75016    236\n",
              "75017    221\n",
              "75011    180\n",
              "75020    169\n",
              "Name: Postal_Code, dtype: int64"
            ]
          },
          "metadata": {
            "tags": []
          },
          "execution_count": 220
        }
      ]
    },
    {
      "cell_type": "code",
      "metadata": {
        "id": "33KfnXukZ7Hs"
      },
      "source": [
        "#The codes are slightly different overrally "
      ],
      "execution_count": 221,
      "outputs": []
    }
  ]
}